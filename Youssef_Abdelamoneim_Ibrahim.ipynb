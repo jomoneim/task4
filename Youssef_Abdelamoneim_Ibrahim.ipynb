{
 "cells": [
  {
   "cell_type": "code",
   "execution_count": 1,
   "id": "535c8aad-6e26-435f-aaa1-fb5bf93dee96",
   "metadata": {},
   "outputs": [
    {
     "name": "stdout",
     "output_type": "stream",
     "text": [
      "the\n",
      "quick\n",
      "brown\n",
      "fox\n",
      "jumped\n",
      "over\n",
      "the\n",
      "lazy\n",
      "dog\n"
     ]
    }
   ],
   "source": [
    "sentence = [\"the\", \"quick\", \"brown\", \"fox\", \"jumped\", \"over\", \"the\", \"lazy\", \"dog\"]\n",
    "for i in sentence:\n",
    "    print (i)"
   ]
  },
  {
   "cell_type": "code",
   "execution_count": 2,
   "id": "9e4899a6-78f8-4ab9-b35f-23d15bf75fb1",
   "metadata": {},
   "outputs": [
    {
     "name": "stdout",
     "output_type": "stream",
     "text": [
      "5\n",
      "10\n",
      "15\n",
      "20\n",
      "25\n",
      "30\n"
     ]
    }
   ],
   "source": [
    "for i in range(1,31,1):\n",
    "    if i%5==0:\n",
    "        print(i)\n",
    "    "
   ]
  },
  {
   "cell_type": "code",
   "execution_count": 7,
   "id": "09fd3a78-3156-495a-8661-bfccc7c57fdf",
   "metadata": {},
   "outputs": [
    {
     "name": "stdout",
     "output_type": "stream",
     "text": [
      "MxeU)(351\n"
     ]
    }
   ],
   "source": [
    "import random\n",
    "pass_letters=\"\"\n",
    "pass_symbols=\"\"\n",
    "pass_numbers=\"\"\n",
    "letters = ['a', 'b', 'c', 'd', 'e', 'f', 'g', 'h', 'i', 'j', 'k', 'l', 'm', 'n', 'o', 'p', 'q', 'r', 's', 't', 'u', 'v', 'w', 'x', 'y', 'z', 'A', 'B', 'C', 'D', 'E', 'F', 'G', 'H', 'I', 'J', 'K', 'L', 'M', 'N', 'O', 'P', 'Q', 'R', 'S', 'T', 'U', 'V', 'W', 'X', 'Y', 'Z']\n",
    "numbers = ['0', '1', '2', '3', '4', '5', '6', '7', '8', '9']\n",
    "symbols = ['!', '#', '$', '%', '&', '(', ')', '*', '+']\n",
    "for i in range(4):\n",
    "    pass_letters+=random.choice(letters)\n",
    "for i in range(2):\n",
    "    pass_symbols+=random.choice(symbols)\n",
    "for i in range(3):\n",
    "    pass_numbers+=random.choice(numbers)\n",
    "print(pass_letters+pass_symbols+pass_numbers)"
   ]
  },
  {
   "cell_type": "code",
   "execution_count": 49,
   "id": "da9f57f6-ced1-422c-b9c9-d5084fe54bc0",
   "metadata": {},
   "outputs": [
    {
     "name": "stdout",
     "output_type": "stream",
     "text": [
      "W!1#Z3jU9\n"
     ]
    }
   ],
   "source": [
    "import random\n",
    "\n",
    "letters = ['a', 'b', 'c', 'd', 'e', 'f', 'g', 'h', 'i', 'j', 'k', 'l', 'm', 'n', 'o', 'p', 'q', 'r', 's', 't', 'u', 'v', 'w', 'x', 'y', 'z', \n",
    "           'A', 'B', 'C', 'D', 'E', 'F', 'G', 'H', 'I', 'J', 'K', 'L', 'M', 'N', 'O', 'P', 'Q', 'R', 'S', 'T', 'U', 'V', 'W', 'X', 'Y', 'Z']\n",
    "numbers = ['0', '1', '2', '3', '4', '5', '6', '7', '8', '9']\n",
    "symbols = ['!', '#', '$', '%', '&', '(', ')', '*', '+']\n",
    "password= []\n",
    "for i in range(4):\n",
    "    password.append(random.choice(letters))\n",
    "for i in range(2):\n",
    "    password.append(random.choice(symbols))\n",
    "for i in range(3):\n",
    "    password.append(random.choice(numbers))\n",
    "random.shuffle(password)\n",
    "passwordd = \"\".join(password)\n",
    "print(passwordd)"
   ]
  },
  {
   "cell_type": "code",
   "execution_count": 59,
   "id": "5027e34a-87fd-47a7-93ff-dd28e8954e45",
   "metadata": {},
   "outputs": [
    {
     "name": "stdin",
     "output_type": "stream",
     "text": [
      "Enter a number:  5\n"
     ]
    },
    {
     "name": "stdout",
     "output_type": "stream",
     "text": [
      "the factorial is :  120\n"
     ]
    }
   ],
   "source": [
    "number=int(input(\"Enter a number: \"))\n",
    "factorial=1\n",
    "for i in range(1,number+1,1):\n",
    "    factorial=factorial*i\n",
    "print(\"the factorial is : \",factorial)"
   ]
  },
  {
   "cell_type": "code",
   "execution_count": null,
   "id": "e67ac41c-1f6a-4406-ab06-f4b5fcc6116d",
   "metadata": {},
   "outputs": [],
   "source": []
  }
 ],
 "metadata": {
  "kernelspec": {
   "display_name": "Python 3 (ipykernel)",
   "language": "python",
   "name": "python3"
  },
  "language_info": {
   "codemirror_mode": {
    "name": "ipython",
    "version": 3
   },
   "file_extension": ".py",
   "mimetype": "text/x-python",
   "name": "python",
   "nbconvert_exporter": "python",
   "pygments_lexer": "ipython3",
   "version": "3.13.2"
  }
 },
 "nbformat": 4,
 "nbformat_minor": 5
}
